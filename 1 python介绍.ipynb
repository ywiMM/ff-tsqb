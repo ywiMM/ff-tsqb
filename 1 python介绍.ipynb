{
 "cells": [
  {
   "cell_type": "markdown",
   "id": "8459149d",
   "metadata": {},
   "source": [
    "## 第1章 Python介绍"
   ]
  },
  {
   "cell_type": "markdown",
   "id": "e5e4486f",
   "metadata": {},
   "source": [
    "<img src=\"./imgs/Python介绍.png\">"
   ]
  },
  {
   "cell_type": "markdown",
   "id": "11a7c8cf",
   "metadata": {},
   "source": [
    "## 1.1 Python概述\n",
    "Python是荷兰人Guido van Rossum（吉多·范罗苏姆）于20世纪90年代开发出来的编程语言，当初只是想要尝试编写一种替代ABC这种编程语言的脚本语言，如今竟成为风靡全球的编程语言。Python语法相对简单，符合人们的思维习惯，通过自带的集成环境直接执行源程序代码，而且可以在Windows、Linux等操作系统平台上运行，**python最强大之处就在于丰富实用的第三方库，让我们能高效灵活地编写程序应付各领域的工作。**\n",
    "\n",
    "编程语言多种多样，但是有开源和闭源之分。**Python就是一个开放核心源代码（即开源）的编程语言**，它开发代码的效率非常高，而且代码非常易读，适用于多人参与的项目。**它支持面向对象的编程方式，同样也可以面向过程，非常灵活**。它不但免费，而且可以任意复制、分发。正因为Python是这样一款开源、自由、容易获得的软件，所以每一个使用者都可以阅读并修改代码。"
   ]
  },
  {
   "cell_type": "markdown",
   "id": "eef2ddfd",
   "metadata": {},
   "source": [
    "<img src=\"./imgs/jupyter notebook.jpg\">"
   ]
  },
  {
   "cell_type": "markdown",
   "id": "6a70a858",
   "metadata": {},
   "source": [
    "## 1.2 Python安装相关(Anaconda)\n",
    "\n",
    "\n",
    "### 1. Anaconda简介\n",
    "Anaconda是一个Python的发行版，包括了Python很多常见常用的程序库, 和一个包管理器Conda。Anaconda能够通过包管理器conda和推荐的基于浏览器的Jupyter Notebook开发环境，大大简化程序开发工作流程。不仅能够满足用户安装、更新卸载工具包的需求，而且能够使用不同的虚拟环境隔离不同要求的项目，使用户更高效地工作。\n",
    "\n",
    "### 2. Jupyter Notebook 简介\n",
    "Anaconda中的Jupyter Notebook是一款基于浏览器网页方式、用于交互计算的应用程序。其可被应用于以下过程：开发、文档编写、运行代码和展示结果。 Jupyter Notebook提供了一个网页方式的开发环境，您可以在其中记录代码、运行代码、查看结果和数据可视化。这些特性使其成为一款数据科学工作中非常便捷的工具，可以用于数据清洗、统计建模、机器学习模型的构建和训练等。 当你还在构建项目原型时，Jupyter Notebook的优势便十分突出，因为**你的代码是被写入独立的单元中并被单独执行的。这允许用户测试项目中的特定代码块，而无需每次都从代码的最开始执行代码**。\n",
    "\n",
    "### 3. Anaconda环境的安装\n",
    "#### Anaconda安装步骤如下:\n",
    "安装可参考：https://blog.csdn.net/in546/article/details/117400839 \n",
    "\n",
    "\n",
    "①访问Anaconda官网：https://www.anaconda.com/ ；\n",
    "\n",
    "②点击“Download Now”图标，下载Python 3.8 version或者最新版本。根据电脑的版本选择64-Bit Graphical Installer或者32-Bit Graphical Installer；\n",
    "\n",
    "③下载完成后，点击后缀名为.exe的安装程序进行安装，在默认设置的“Advanced Options”中，勾选“Add Anaconda to the system PATH environment variable”，直接将Anaconda加入环境变量。然后按照安装程序提示，继续安装，直到完成安装工作；\n",
    "\n",
    "（如果未勾选加入环境变量，可参考此教程手动添加https://blog.csdn.net/ITLearnHall/article/details/81708148 ）\n",
    "\n",
    "\n",
    "#### Jupyter Notebook的初次使用步骤如下：\n",
    "\n",
    "①在搜索栏中搜索“cmd”或者“Anaconda Prompt (Anaconda3)”，打开命令提示符，输入Jupyter Notebook，等待浏览器窗口弹出即可（使用的是您的电脑中的默认浏览器），注意命令提示符进入的文件目录位置即是Jupyter Notebook启动后的根目录位置；或者直接打开Anaconda应用程序文件夹中的Jupyter Notebook (Anaconda3)进行启动；\n",
    "\n",
    "②看到出现的浏览器页面后，发现在其左上角有个“jupyter”图标，目录区显示当前目录下的子目录或文件。如果这时您想要创建一个Jupyter Notebook文件，可以点击浏览器右上部的“new”按钮，再点击 “Python3”按钮，此时出现页面标题为“Untitled”的Jupyter Notebook的空白使用界面，默认有一行空的单元格，我们即可在其中写Python代码或文字描述。"
   ]
  },
  {
   "cell_type": "markdown",
   "id": "e5ee21ad",
   "metadata": {},
   "source": [
    "### 4. Jupyter Notebook使用说明"
   ]
  },
  {
   "cell_type": "markdown",
   "id": "5e4fa820",
   "metadata": {},
   "source": [
    "#### （1）输入、执行代码（shfit+enter）\n",
    "在使用界面中，你会看到一个如下:“In[]:”的框，这个框叫做单元格。在单元格中输入需执行的代码，**点击上方的“运行”按钮执行代码或按“shift+enter”执行代码。单元格下方将出现代码结果**。   \n",
    "\n",
    "**单元格:**"
   ]
  },
  {
   "cell_type": "code",
   "execution_count": 3,
   "id": "979500c4",
   "metadata": {},
   "outputs": [
    {
     "data": {
      "text/plain": [
       "2"
      ]
     },
     "execution_count": 3,
     "metadata": {},
     "output_type": "execute_result"
    }
   ],
   "source": [
    "1+1 #尝试运行，结果为2"
   ]
  },
  {
   "cell_type": "markdown",
   "id": "4ae0a45e",
   "metadata": {},
   "source": [
    "In[1]：表示该代码在这个文件中第1次执行\n",
    "\n",
    "Out[1]：表示该结果在这个文件中第1次输出"
   ]
  },
  {
   "cell_type": "markdown",
   "id": "8ed907d4",
   "metadata": {},
   "source": [
    "***注：在同一个单元格中需要输出多个值时，应用print()语句而不是直接输入。若直接输入，只会输出最后一个值***。 \n",
    "#### 运行对比以下两个单元格的输出结果:"
   ]
  },
  {
   "cell_type": "code",
   "execution_count": 4,
   "id": "71a076d0",
   "metadata": {},
   "outputs": [
    {
     "data": {
      "text/plain": [
       "2"
      ]
     },
     "execution_count": 4,
     "metadata": {},
     "output_type": "execute_result"
    }
   ],
   "source": [
    "1\n",
    "2"
   ]
  },
  {
   "cell_type": "code",
   "execution_count": 3,
   "id": "effd813a",
   "metadata": {},
   "outputs": [
    {
     "name": "stdout",
     "output_type": "stream",
     "text": [
      "1\n",
      "2\n"
     ]
    }
   ],
   "source": [
    "print(1)\n",
    "print(2)"
   ]
  },
  {
   "cell_type": "markdown",
   "id": "f0a6d803",
   "metadata": {},
   "source": [
    "#### (2) 单元格格式\n",
    "在工具栏右侧有一个下拉框，它可以用于修改单元格格式。点开发现有几个选项：\n",
    "\n",
    "代码：单元格格式为正常的Python代码格式。\n",
    "\n",
    "标记：单元格格式为text文档编辑格式，可在里面输入文本。\n",
    "\n",
    "标题：单元格格式标题。一个#号代表一级标题，两个#号代表2级标题，以此类推。\n",
    "\n",
    "#### (3) 修改文档名称并保存\n",
    "修改文档名称：点击上方的“Untitled”或者点击“File”菜单中的“rename”按钮进行更名。\n",
    "\n",
    "保存文件：Ctrl+S快捷键保存文档，默认是保存为ipynb格式，保存在主目录下。\n",
    "\n",
    "#### (4) Jupyter Notebook 主目录\n",
    "第一次启动Jupyter Notebook后所在的目录即为主目录或根目录。\n",
    "\n",
    "Jupyter Notebook（以下简称Notebook）指定主目录主要有以下两种方式：\n",
    "\n",
    "①打开指定目录，按下shift键并且点击鼠标右键，点击“此处打开powershell的窗口”的按键，在弹出的命令行中输入jupyter notebook，即可弹出Notebook的使用界面。此时该指定目录即为主目录，启动好的Notebook中即显示了该主目录下的子目录与文件。\n",
    "\n",
    "②在cmd中输入cd/d C:\\data并按下回车，再输入jupyter notebook并按下回车，即可弹出Notebook的使用界面。C:\\data为指定的目录，要将其设为主目录。读者可以根据自己的需要自行更改。\n",
    "\n",
    "*  **另可在桌面上设置快捷键的方式来启动**"
   ]
  },
  {
   "cell_type": "code",
   "execution_count": null,
   "id": "11b7be0f",
   "metadata": {},
   "outputs": [],
   "source": []
  }
 ],
 "metadata": {
  "kernelspec": {
   "display_name": "Python 3 (ipykernel)",
   "language": "python",
   "name": "python3"
  },
  "language_info": {
   "codemirror_mode": {
    "name": "ipython",
    "version": 3
   },
   "file_extension": ".py",
   "mimetype": "text/x-python",
   "name": "python",
   "nbconvert_exporter": "python",
   "pygments_lexer": "ipython3",
   "version": "3.10.9"
  },
  "toc": {
   "base_numbering": 1,
   "nav_menu": {},
   "number_sections": false,
   "sideBar": true,
   "skip_h1_title": false,
   "title_cell": "Table of Contents",
   "title_sidebar": "Contents",
   "toc_cell": false,
   "toc_position": {},
   "toc_section_display": true,
   "toc_window_display": false
  }
 },
 "nbformat": 4,
 "nbformat_minor": 5
}
